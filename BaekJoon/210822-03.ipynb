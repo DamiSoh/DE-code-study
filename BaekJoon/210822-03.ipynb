{
 "cells": [
  {
   "cell_type": "code",
   "execution_count": null,
   "id": "53c586fb-4ba6-463a-aca8-92a10088365b",
   "metadata": {},
   "outputs": [],
   "source": [
    "#1차원배열, 함수 (7문제, 3문제)\n",
    "#10818 최소 최대 \n",
    "\n",
    "long = int(input())\n",
    "nums = list(map(int, input().split()))\n",
    "print(min(nums), max(nums))\n"
   ]
  },
  {
   "cell_type": "code",
   "execution_count": null,
   "id": "3ee9a024-b221-4015-a810-0a172f4e3a8d",
   "metadata": {},
   "outputs": [],
   "source": [
    "#2562 최댓값\n",
    "\n",
    "long = {}\n",
    "for i in range(9):\n",
    "    nums = int(input())\n",
    "    long[nums] = i+1     \n",
    "largest = max(long)\n",
    "print(largest,long[largest], sep='\\n')\n",
    "    \n",
    "    "
   ]
  },
  {
   "cell_type": "code",
   "execution_count": null,
   "id": "7ea85853-846d-41fe-ac60-6313e098f926",
   "metadata": {},
   "outputs": [],
   "source": [
    "#2577 숫자의 개수\n",
    "\n",
    "#정수 -> 각 자리수별로 쪼개기 map(int, str(num)) ->  스트링으로 변환해서, map으로 감싸고 int취해주기 \n",
    "#리스트 요소 갯수 출력하기 #list.count(i)\n",
    "\n",
    "num = 1\n",
    "for no in range(3):\n",
    "    num *= int(input())\n",
    "    \n",
    "emp = []\n",
    "for i in map(int, str(num)):\n",
    "    emp.append(i)\n",
    "\n",
    "for i in range(10):\n",
    "    print(emp.count(i))\n",
    "\n",
    "    "
   ]
  },
  {
   "cell_type": "code",
   "execution_count": null,
   "id": "dd58cb6a-a502-46df-b477-24c7c26012b1",
   "metadata": {},
   "outputs": [],
   "source": [
    "#짧은코드 퍼옴:\n",
    "\n",
    "n = str(eval('int(input())*'*3+'1'))\n",
    "for i in range(10):\n",
    "\tprint(n.count(str(i)))\n",
    "\n"
   ]
  },
  {
   "cell_type": "code",
   "execution_count": null,
   "id": "52344d3e-4280-44dd-a2f3-9bfea8cb270b",
   "metadata": {},
   "outputs": [],
   "source": [
    "#3052 나머지\n",
    "\n",
    "rest = []\n",
    "for i in range(10):\n",
    "    rest.append(int(input())%42)\n",
    "print(len(set(rest)))\n",
    "    "
   ]
  },
  {
   "cell_type": "code",
   "execution_count": 58,
   "id": "e91cfd3d-cacd-4112-97ed-98458c7f5564",
   "metadata": {},
   "outputs": [
    {
     "name": "stdin",
     "output_type": "stream",
     "text": [
      " 3\n",
      " 70\n",
      " 80\n",
      " 90\n"
     ]
    },
    {
     "name": "stdout",
     "output_type": "stream",
     "text": [
      "88.88888888888887\n"
     ]
    }
   ],
   "source": [
    "### 1546 평균\n",
    "#.런타임 에러나서 다시해야한다 \n",
    "\n",
    "l = int(input())\n",
    "score = []\n",
    "for i in range(l):\n",
    "    score.append(int(input()))\n",
    "\n",
    "fst = max(score)\n",
    "\n",
    "for idx in range(l):\n",
    "    score[idx] = 100*score[idx]/fst\n",
    "\n",
    "print(sum(score)/l)"
   ]
  },
  {
   "cell_type": "code",
   "execution_count": null,
   "id": "9df38232-9825-4b57-8c73-04df7d96a7ea",
   "metadata": {},
   "outputs": [],
   "source": []
  }
 ],
 "metadata": {
  "kernelspec": {
   "display_name": "Python 3",
   "language": "python",
   "name": "python3"
  },
  "language_info": {
   "codemirror_mode": {
    "name": "ipython",
    "version": 3
   },
   "file_extension": ".py",
   "mimetype": "text/x-python",
   "name": "python",
   "nbconvert_exporter": "python",
   "pygments_lexer": "ipython3",
   "version": "3.8.10"
  }
 },
 "nbformat": 4,
 "nbformat_minor": 5
}
