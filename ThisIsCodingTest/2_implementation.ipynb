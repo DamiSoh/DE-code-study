{
  "nbformat": 4,
  "nbformat_minor": 0,
  "metadata": {
    "colab": {
      "name": "2-implementation.ipynb",
      "provenance": [],
      "collapsed_sections": []
    },
    "kernelspec": {
      "name": "python3",
      "display_name": "Python 3"
    },
    "language_info": {
      "name": "python"
    }
  },
  "cells": [
    {
      "cell_type": "code",
      "metadata": {
        "colab": {
          "base_uri": "https://localhost:8080/"
        },
        "id": "bwhlVSRa8oNj",
        "outputId": "66b0288c-e983-4f99-c055-020684467902"
      },
      "source": [
        "#P111\n",
        "#상하좌우\n",
        "\n",
        "n = int(input())\n",
        "x,y = 1,1\n",
        "plans = input().split()\n",
        "\n",
        "#L,R,U,D에 따른 이동방향\n",
        "\n",
        "move_types = ['L', 'R', 'U', 'D']\n",
        "dx = [0, 0, -1, 1]\n",
        "dy = [-1, 1, 0, 0]\n",
        "\n",
        "\n",
        "#이동 계획을 하나씩 확인\n",
        "\n",
        "for plan in plans:\n",
        "  for i in range(len(move_types)):\n",
        "    if plan == move_types[i]:\n",
        "      nx = x + dx[i]\n",
        "      ny = y + dy[i]\n",
        "\n",
        "  #공간을 벗어나는 경우 무시\n",
        "  if nx < 1 or ny < 1 or nx > n or ny > n:\n",
        "    continue\n",
        "  \n",
        "  #좌표 업데이트\n",
        "  x, y = nx, ny\n",
        "\n",
        "print(x, y)"
      ],
      "execution_count": 12,
      "outputs": [
        {
          "output_type": "stream",
          "name": "stdout",
          "text": [
            "5\n",
            "R R R U D D \n",
            "3 4\n"
          ]
        }
      ]
    },
    {
      "cell_type": "code",
      "metadata": {
        "colab": {
          "base_uri": "https://localhost:8080/"
        },
        "id": "eak5fFMVBdSI",
        "outputId": "7c718562-3f3f-41e4-fcb8-d58b5cefb802"
      },
      "source": [
        "# p113\n",
        "# 시각 \n",
        "# 00시 00분 03초 \n",
        "# 00-23 / 00-59 / 00-59\n",
        "# range(0,24)/range(0,60)/range(0,60)\n",
        "\n",
        "\n",
        "h = int(input())\n",
        "count = 0\n",
        "for i in range(h+1):\n",
        "  for j in range(60):\n",
        "    for k in range(60):\n",
        "      if '3' in str(i) + str(j) + str(k):\n",
        "        count += 1\n",
        "print(count)\n"
      ],
      "execution_count": 14,
      "outputs": [
        {
          "output_type": "stream",
          "name": "stdout",
          "text": [
            "5\n",
            "11475\n"
          ]
        }
      ]
    }
  ]
}