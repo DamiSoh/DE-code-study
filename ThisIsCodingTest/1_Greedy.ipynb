{
  "nbformat": 4,
  "nbformat_minor": 0,
  "metadata": {
    "colab": {
      "name": "1-Greedy.ipynb",
      "provenance": [],
      "collapsed_sections": []
    },
    "kernelspec": {
      "name": "python3",
      "display_name": "Python 3"
    },
    "language_info": {
      "name": "python"
    }
  },
  "cells": [
    {
      "cell_type": "code",
      "metadata": {
        "id": "yIIwe8gKz_EV"
      },
      "source": [
        "#P311\n",
        "#여행을 떠날 수 있는 그룹 수의 최댓값\n",
        "#공포도가 X인 모험가는 반드시 X명 이상으로 구성한 모험가 그룹에 참여해야 여행을 떠날 수 있다\n",
        "\n",
        "#첫째줄에 모험가의 수 N이 주어진다\n",
        "#둘째줄에 각 모험가의 공포도의 값을 N 이하 자연수로 준다. 자연수는 공백으로 구분되어있다.\n",
        "\n",
        "\"\"\"\n",
        "입력예시\n",
        "5\n",
        "2 3 1 2 2\n",
        "\n",
        "출력예시\n",
        "2\n",
        "\"\"\""
      ],
      "execution_count": null,
      "outputs": []
    },
    {
      "cell_type": "code",
      "metadata": {
        "colab": {
          "base_uri": "https://localhost:8080/"
        },
        "id": "2P7fjIZ91yMu",
        "outputId": "27592256-e5f0-4ce6-bf3f-a4f67eb34eba"
      },
      "source": [
        "n = int(input())\n",
        "lst = map(int, input().split())\n",
        "\n",
        "grp = []\n",
        "[grp.append(i) for i in lst]\n",
        "grp.sort()\n",
        "\n",
        "team = 0 #총 그룹 수\n",
        "count = 0 #현재(Current) 그룹에 포함된 모험가 수 \n",
        "\n",
        "for i in grp:\n",
        "  count += 1 \n",
        "  if count >= i:\n",
        "    team += 1\n",
        "    count = 0 \n",
        "\n",
        "print(team)"
      ],
      "execution_count": 32,
      "outputs": [
        {
          "output_type": "stream",
          "name": "stdout",
          "text": [
            "5\n",
            "2 3 1 2 2\n",
            "5 [1, 2, 2, 2, 3]\n"
          ]
        }
      ]
    },
    {
      "cell_type": "code",
      "metadata": {
        "colab": {
          "base_uri": "https://localhost:8080/"
        },
        "id": "RLaqd7Cj4sJU",
        "outputId": "1a362c0d-924f-40d4-933d-f96029d86c15"
      },
      "source": [
        "#답지\n",
        "\n",
        "n = int(input())\n",
        "data = list(map(int, input().split()))\n",
        "data.sort()"
      ],
      "execution_count": 33,
      "outputs": [
        {
          "output_type": "stream",
          "name": "stdout",
          "text": [
            "2\n"
          ]
        }
      ]
    },
    {
      "cell_type": "code",
      "metadata": {
        "id": "wubBPZSM6Y5p"
      },
      "source": [
        ""
      ],
      "execution_count": null,
      "outputs": []
    }
  ]
}