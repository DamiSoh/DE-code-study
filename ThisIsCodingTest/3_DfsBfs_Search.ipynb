{
  "nbformat": 4,
  "nbformat_minor": 0,
  "metadata": {
    "colab": {
      "name": "3-DfsBfs-Search.ipynb",
      "provenance": [],
      "collapsed_sections": []
    },
    "kernelspec": {
      "name": "python3",
      "display_name": "Python 3"
    },
    "language_info": {
      "name": "python"
    }
  },
  "cells": [
    {
      "cell_type": "code",
      "metadata": {
        "colab": {
          "base_uri": "https://localhost:8080/"
        },
        "id": "8Tg_JvxTWW_g",
        "outputId": "064c45e5-8e76-4f7d-d21f-fe63f8873162"
      },
      "source": [
        "from collections import deque\n",
        "\n",
        "#deque 라이브러리 써보기 \n",
        "\n",
        "queue = deque()\n",
        "\n",
        "queue.append(5)\n",
        "queue.append(3)\n",
        "\n",
        "queue"
      ],
      "execution_count": 1,
      "outputs": [
        {
          "output_type": "execute_result",
          "data": {
            "text/plain": [
              "deque([5, 3])"
            ]
          },
          "metadata": {},
          "execution_count": 1
        }
      ]
    },
    {
      "cell_type": "code",
      "metadata": {
        "colab": {
          "base_uri": "https://localhost:8080/"
        },
        "id": "WGVDVt3naLXq",
        "outputId": "21561139-d0a9-490c-9394-86d76c2bf032"
      },
      "source": [
        "queue.popleft()\n",
        "queue"
      ],
      "execution_count": 3,
      "outputs": [
        {
          "output_type": "execute_result",
          "data": {
            "text/plain": [
              "deque([3])"
            ]
          },
          "metadata": {},
          "execution_count": 3
        }
      ]
    },
    {
      "cell_type": "code",
      "metadata": {
        "colab": {
          "base_uri": "https://localhost:8080/"
        },
        "id": "43uZMWlhaQxC",
        "outputId": "5d9cb955-8ad0-4f2e-985e-0ffa7ce529b7"
      },
      "source": [
        "#n! 팩토리얼 구현 - 1\n",
        "\n",
        "def factorial_iterative(n):\n",
        "  result = 1\n",
        "  for i in range(1, n+1):\n",
        "    result *= i\n",
        "  return result\n",
        "\n",
        "#팩토리얼 구현 -2\n",
        "\n",
        "def factorial_recursive(n):\n",
        "  if n <= 1:\n",
        "    return 1\n",
        "  else:\n",
        "    return n*factorial_recursive(n-1)\n",
        "\n",
        "print('for문으로 반복구현:', factorial_iterative(5))\n",
        "print('재귀함수 선언:', factorial_recursive(5))"
      ],
      "execution_count": 5,
      "outputs": [
        {
          "output_type": "stream",
          "name": "stdout",
          "text": [
            "for문으로 반복구현: 120\n",
            "재귀함수 선언: 120\n"
          ]
        }
      ]
    },
    {
      "cell_type": "code",
      "metadata": {
        "colab": {
          "base_uri": "https://localhost:8080/"
        },
        "id": "xB4qMeyRbgdj",
        "outputId": "8d9a18b8-0450-4889-cb14-1cdb9af4dbf5"
      },
      "source": [
        "#DFS예제 \n",
        "\n",
        "def dfs(graph, v, visited): #2차원 리스트배열 그래프, 시작 노드=1, 방문경로 초기값 리스트(false)\n",
        "  visited[v] = True\n",
        "  print(v, end =' ')\n",
        "\n",
        "  for i in graph[v]:\n",
        "    if not visited[i]:\n",
        "      dfs(graph, i, visited)\n",
        "\n",
        "graph = [\n",
        "         [],\n",
        "         [2,3,8],\n",
        "         [1,7],\n",
        "         [1,4,5],\n",
        "         [3,5],\n",
        "         [3,4],\n",
        "         [7],\n",
        "         [2,6,8],\n",
        "         [1,7]\n",
        "]\n",
        "\n",
        "visited = [False]*9\n",
        "\n",
        "dfs(graph, 1, visited)\n"
      ],
      "execution_count": 7,
      "outputs": [
        {
          "output_type": "stream",
          "name": "stdout",
          "text": [
            "1 2 7 6 8 3 4 5 "
          ]
        }
      ]
    },
    {
      "cell_type": "code",
      "metadata": {
        "colab": {
          "base_uri": "https://localhost:8080/"
        },
        "id": "8RJlGWoehdH2",
        "outputId": "ad3db4af-7413-4f4e-adaa-45fdb550ba2c"
      },
      "source": [
        "#BFS 예제\n",
        "\n",
        "from collections import deque\n",
        "\n",
        "def bfs(graph, start, visited):\n",
        "\n",
        "  queue = deque([start]) #1. 방문노드 \n",
        "  visited[start] = True\n",
        "\n",
        "  while queue:\n",
        "    v = queue.popleft()  #2. 노드 꺼내어 방문처리 완료하기  \n",
        "    print(v, end = ' ')\n",
        "\n",
        "    for i in graph[v]:   #3. 인접노드 방문하기 \n",
        "      if not visited[i]:\n",
        "        queue.append(i)\n",
        "        visited[i] = True\n",
        "\n",
        "graph = [\n",
        "         [],\n",
        "         [2,3,8],\n",
        "         [1,7],\n",
        "         [1,4,5],\n",
        "         [3,5],\n",
        "         [3,4],\n",
        "         [7],\n",
        "         [2,6,8],\n",
        "         [1,7]\n",
        "]\n",
        "\n",
        "visited = [False]*9\n",
        "\n",
        "bfs(graph, 1, visited)"
      ],
      "execution_count": 13,
      "outputs": [
        {
          "output_type": "stream",
          "name": "stdout",
          "text": [
            "1 2 3 8 7 4 5 6 "
          ]
        }
      ]
    }
  ]
}