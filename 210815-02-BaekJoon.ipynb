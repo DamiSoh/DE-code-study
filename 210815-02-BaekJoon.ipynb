{
 "cells": [
  {
   "cell_type": "code",
   "execution_count": 23,
   "id": "f7b12607-fcfa-45c3-b91d-dde1773173b8",
   "metadata": {},
   "outputs": [
    {
     "name": "stdin",
     "output_type": "stream",
     "text": [
      " 2\n"
     ]
    },
    {
     "name": "stdout",
     "output_type": "stream",
     "text": [
      "2 * 1 = 2\n",
      "2 * 2 = 4\n",
      "2 * 3 = 6\n",
      "2 * 4 = 8\n",
      "2 * 5 = 10\n",
      "2 * 6 = 12\n",
      "2 * 7 = 14\n",
      "2 * 8 = 16\n",
      "2 * 9 = 18\n"
     ]
    }
   ],
   "source": [
    "#1번, 4번, 5번, 7번, 11번\n",
    "\n",
    "#2739 구구단\n",
    "\n",
    "num = int(input())\n",
    "\n",
    "no_list = [1,2,3,4,5,6,7,8,9]\n",
    "\n",
    "for i in no_list:\n",
    "    print(num, \"*\", i, \"=\", num*i)"
   ]
  },
  {
   "cell_type": "code",
   "execution_count": 96,
   "id": "ea4d6b5e-a000-4ab3-9d05-c19a2c67eb7c",
   "metadata": {},
   "outputs": [
    {
     "ename": "ValueError",
     "evalue": "invalid literal for int() with base 10: ''",
     "output_type": "error",
     "traceback": [
      "\u001b[0;31m---------------------------------------------------------------------------\u001b[0m",
      "\u001b[0;31mValueError\u001b[0m                                Traceback (most recent call last)",
      "\u001b[0;32m<ipython-input-96-fb570d6addc3>\u001b[0m in \u001b[0;36m<module>\u001b[0;34m\u001b[0m\n\u001b[1;32m     12\u001b[0m \u001b[0;32mimport\u001b[0m \u001b[0msys\u001b[0m\u001b[0;34m\u001b[0m\u001b[0;34m\u001b[0m\u001b[0m\n\u001b[1;32m     13\u001b[0m \u001b[0;34m\u001b[0m\u001b[0m\n\u001b[0;32m---> 14\u001b[0;31m \u001b[0mnums\u001b[0m \u001b[0;34m=\u001b[0m \u001b[0mint\u001b[0m\u001b[0;34m(\u001b[0m\u001b[0msys\u001b[0m\u001b[0;34m.\u001b[0m\u001b[0mstdin\u001b[0m\u001b[0;34m.\u001b[0m\u001b[0mreadline\u001b[0m\u001b[0;34m(\u001b[0m\u001b[0;34m)\u001b[0m\u001b[0;34m)\u001b[0m\u001b[0;34m\u001b[0m\u001b[0;34m\u001b[0m\u001b[0m\n\u001b[0m\u001b[1;32m     15\u001b[0m \u001b[0;34m\u001b[0m\u001b[0m\n\u001b[1;32m     16\u001b[0m \u001b[0;32mfor\u001b[0m \u001b[0mline\u001b[0m \u001b[0;32min\u001b[0m \u001b[0mrange\u001b[0m\u001b[0;34m(\u001b[0m\u001b[0mnums\u001b[0m\u001b[0;34m)\u001b[0m\u001b[0;34m:\u001b[0m\u001b[0;34m\u001b[0m\u001b[0;34m\u001b[0m\u001b[0m\n",
      "\u001b[0;31mValueError\u001b[0m: invalid literal for int() with base 10: ''"
     ]
    }
   ],
   "source": [
    "#15552번: 빠른 A+B\n",
    "#이거 어떻게 푸나요 해설을 봐도 모르겠습니다 도와주세요 ㅠㅠ \n",
    "\n",
    "# import sys\n",
    "# n = int(sys.stdin.readline()) \n",
    "# for i in range(n):\n",
    "#     a, b = map(int, sys.stdin.readline().split())\n",
    "#     plus = a+b\n",
    "#     print(plus)\n",
    "    \n",
    "\n",
    "import sys\n",
    "\n",
    "nums = int(sys.stdin.readline())\n",
    "\n",
    "for line in range(nums):\n",
    "    a,b = map(int, sys.stdin.readline().split())\n",
    "    print(a+b)\n",
    "    \n",
    "\n",
    "# for row in range(len(nums)):\n",
    "#     try:\n",
    "#         line = int(sys.stdin.readline())\n",
    "#         print(sum(line))\n",
    "#     except:\n",
    "#         print(\"난 이문제를 풀 수 없다\")\n"
   ]
  },
  {
   "cell_type": "code",
   "execution_count": 79,
   "id": "1e0dba44-5c28-4257-b64c-6b5467e2023b",
   "metadata": {},
   "outputs": [
    {
     "name": "stdin",
     "output_type": "stream",
     "text": [
      " 5\n"
     ]
    },
    {
     "name": "stdout",
     "output_type": "stream",
     "text": [
      "1\n",
      "2\n",
      "3\n",
      "4\n",
      "5\n"
     ]
    }
   ],
   "source": [
    "#2741번: N 찍기\n",
    "\n",
    "num = int(input())\n",
    "\n",
    "for i in range(num):\n",
    "    print(i+1)"
   ]
  },
  {
   "cell_type": "code",
   "execution_count": 97,
   "id": "31ffe79c-10cb-42ef-a869-ee02418990e0",
   "metadata": {},
   "outputs": [
    {
     "data": {
      "text/plain": [
       "'\\n입력\\n5\\n1 1\\n2 3\\n3 4\\n9 8\\n5 2\\n\\n출력\\nCase #1: 2\\nCase #2: 5\\nCase #3: 7\\nCase #4: 17\\nCase #5: 7\\n\\n'"
      ]
     },
     "execution_count": 97,
     "metadata": {},
     "output_type": "execute_result"
    }
   ],
   "source": [
    "#11021번: A+B-7\n",
    "#15552번 dOf\n",
    "\n",
    "\"\"\"\n",
    "입력\n",
    "첫째 줄에 테스트 케이스의 개수 T가 주어진다.\n",
    "\n",
    "각 테스트 케이스는 한 줄로 이루어져 있으며, 각 줄에 A와 B가 주어진다. (0 < A, B < 10)\n",
    "\n",
    "출력\n",
    "각 테스트 케이스마다 \"Case #x: \"를 출력한 다음, A+B를 출력한다. 테스트 케이스 번호는 1부터 시작한다.\n",
    "\"\"\"\n",
    "\n",
    "\"\"\"\n",
    "입력\n",
    "5\n",
    "1 1\n",
    "2 3\n",
    "3 4\n",
    "9 8\n",
    "5 2\n",
    "\n",
    "출력\n",
    "Case #1: 2\n",
    "Case #2: 5\n",
    "Case #3: 7\n",
    "Case #4: 17\n",
    "Case #5: 7\n",
    "\n",
    "\"\"\"\n",
    "\n",
    "\n"
   ]
  },
  {
   "cell_type": "code",
   "execution_count": 101,
   "id": "452e9525-1ec3-41c0-804b-b526fe3169a5",
   "metadata": {},
   "outputs": [
    {
     "name": "stdin",
     "output_type": "stream",
     "text": [
      " 10 5\n",
      " 1 10 4 9 2 3 8 5 7 6\n"
     ]
    },
    {
     "name": "stdout",
     "output_type": "stream",
     "text": [
      "1 4 2 3 "
     ]
    }
   ],
   "source": [
    "#10871번:X보다 작은 수\n",
    "\n",
    "# count: a\n",
    "# 숫자:b\n",
    "# 수열:c\n",
    "\n",
    "a, b = map(int, input().split())\n",
    "c = list(map(int, input().split()))\n",
    "\n",
    "for i in c:\n",
    "    if i < b:\n",
    "        print(i, end=\" \")"
   ]
  },
  {
   "cell_type": "code",
   "execution_count": null,
   "id": "adcd93bf-0164-4428-9fcb-21fbb232089f",
   "metadata": {},
   "outputs": [],
   "source": []
  }
 ],
 "metadata": {
  "kernelspec": {
   "display_name": "Python 3",
   "language": "python",
   "name": "python3"
  },
  "language_info": {
   "codemirror_mode": {
    "name": "ipython",
    "version": 3
   },
   "file_extension": ".py",
   "mimetype": "text/x-python",
   "name": "python",
   "nbconvert_exporter": "python",
   "pygments_lexer": "ipython3",
   "version": "3.8.10"
  }
 },
 "nbformat": 4,
 "nbformat_minor": 5
}
