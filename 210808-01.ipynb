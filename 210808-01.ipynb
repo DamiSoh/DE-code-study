{
 "cells": [
  {
   "cell_type": "markdown",
   "metadata": {
    "colab_type": "text",
    "id": "view-in-github"
   },
   "source": [
    "<a href=\"https://colab.research.google.com/github/DamiSoh/DE-code-study/blob/main/210808_01.ipynb\" target=\"_parent\"><img src=\"https://colab.research.google.com/assets/colab-badge.svg\" alt=\"Open In Colab\"/></a>"
   ]
  },
  {
   "cell_type": "markdown",
   "metadata": {
    "id": "RfyEq5O7CkR_"
   },
   "source": [
    "###210808-01"
   ]
  },
  {
   "cell_type": "code",
   "execution_count": null,
   "metadata": {},
   "outputs": [],
   "source": [
    "###210808-01\n",
    "#[문제](https://www.acmicpc.net/step/4)"
   ]
  },
  {
   "cell_type": "code",
   "execution_count": 2,
   "metadata": {
    "id": "UrhY9YC7CbRi"
   },
   "outputs": [
    {
     "name": "stdin",
     "output_type": "stream",
     "text": [
      " 1 10\n"
     ]
    },
    {
     "name": "stdout",
     "output_type": "stream",
     "text": [
      "<\n"
     ]
    }
   ],
   "source": [
    "#1330 두 수 비교하기-1\n",
    "\n",
    "list_ = input()\n",
    "list_ = list_.split()\n",
    "new_list_ = []\n",
    "\n",
    "for ins in list_:\n",
    "    new = int(ins)\n",
    "    new_list_.append(new)\n",
    "    \n",
    "a = new_list_[0]\n",
    "b = new_list_[1]\n",
    "\n",
    "if a > b:\n",
    "    print('>')\n",
    "elif a < b:\n",
    "    print('<')\n",
    "else:\n",
    "    print (\"==\")\n"
   ]
  },
  {
   "cell_type": "code",
   "execution_count": null,
   "metadata": {},
   "outputs": [],
   "source": [
    "# 1330 두 수 비교하기 -2\n",
    "# 짧은코드 퍼옴 \n",
    "# map(function, iterable)\n",
    "\n",
    "a, b = map(int, input().split())\n",
    "print('>' if a > b else ('<' if a < b else '=='))"
   ]
  },
  {
   "cell_type": "code",
   "execution_count": 2,
   "metadata": {},
   "outputs": [
    {
     "name": "stdin",
     "output_type": "stream",
     "text": [
      " 24\n"
     ]
    },
    {
     "name": "stdout",
     "output_type": "stream",
     "text": [
      "F\n"
     ]
    }
   ],
   "source": [
    "#9498 시험 성적\n",
    "#시험 점수를 입력받아 90 ~ 100점은 A, 80 ~ 89점은 B, 70 ~ 79점은 C, 60 ~ 69점은 D, 나머지 점수는 F를 출력하는 프로그램을 작성하시오\n",
    "\n",
    "score = int(input())\n",
    "\n",
    "if score >= 90:\n",
    "    print(\"A\")\n",
    "elif score >= 80:\n",
    "    print(\"B\")\n",
    "elif score >=70:\n",
    "    print(\"C\")\n",
    "elif score >= 60:\n",
    "    print(\"D\")\n",
    "else:\n",
    "    print(\"F\")"
   ]
  },
  {
   "cell_type": "code",
   "execution_count": 19,
   "metadata": {},
   "outputs": [
    {
     "name": "stdin",
     "output_type": "stream",
     "text": [
      " 2000\n"
     ]
    },
    {
     "name": "stdout",
     "output_type": "stream",
     "text": [
      "1\n"
     ]
    }
   ],
   "source": [
    "#2753 윤년\n",
    "\n",
    "year = int(input())\n",
    "if (year % 4 == 0 and year % 100 != 0) | (year % 400 == 0):\n",
    "    print(1)\n",
    "else:\n",
    "    print(0)"
   ]
  },
  {
   "cell_type": "code",
   "execution_count": 23,
   "metadata": {},
   "outputs": [
    {
     "name": "stdin",
     "output_type": "stream",
     "text": [
      " -2\n",
      " 10\n"
     ]
    },
    {
     "name": "stdout",
     "output_type": "stream",
     "text": [
      "2\n"
     ]
    }
   ],
   "source": [
    "#14681 사분면고르기 -1\n",
    "\n",
    "x = int(input())\n",
    "y = int(input())\n",
    "\n",
    "# if x*y > 0:\n",
    "#     if y > 0 :\n",
    "#         print(1)\n",
    "#     else:\n",
    "#         print(3)\n",
    "# elif x*y < 0:\n",
    "#     if x > 0:\n",
    "#         print(4)\n",
    "#     else:\n",
    "#         print(2)\n",
    "\n",
    "if x*y > 0:\n",
    "    print(1 if y > 0 else 3)\n",
    "elif x*y <0:\n",
    "    print(2 if x < 0 else 4)\n",
    "    "
   ]
  },
  {
   "cell_type": "code",
   "execution_count": null,
   "metadata": {},
   "outputs": [],
   "source": [
    "#14681 사분면고르기 -2\n",
    "#짧은코드 퍼옴 \n",
    "\n",
    "a = int(input())\n",
    "b = int(input())\n",
    "if a > 0:\n",
    "    print(1 if b > 0 else 4)\n",
    "elif a < 0:\n",
    "    print(2 if b > 0 else 3)"
   ]
  },
  {
   "cell_type": "code",
   "execution_count": 36,
   "metadata": {},
   "outputs": [
    {
     "name": "stdin",
     "output_type": "stream",
     "text": [
      " 0 30\n"
     ]
    },
    {
     "name": "stdout",
     "output_type": "stream",
     "text": [
      "23 45\n"
     ]
    }
   ],
   "source": [
    "#2884 알람 시계 -1\n",
    "\n",
    "hour, min = map(int, input().split())\n",
    "\n",
    "if min >= 45: \n",
    "    min -= 45 \n",
    "    print (hour, min)\n",
    "    \n",
    "else:\n",
    "    if hour != 0:\n",
    "        min += 15\n",
    "        print(hour-1, min)\n",
    "    else:\n",
    "        min += 15\n",
    "        print(23, min)"
   ]
  },
  {
   "cell_type": "code",
   "execution_count": 2,
   "metadata": {},
   "outputs": [
    {
     "name": "stdin",
     "output_type": "stream",
     "text": [
      " 11 45\n"
     ]
    },
    {
     "name": "stdout",
     "output_type": "stream",
     "text": [
      "11 0\n"
     ]
    }
   ],
   "source": [
    "#2884 알람 시계 -2\n",
    "#짧은코드 퍼옴 \n",
    "\n",
    "a,b=map(int,input().split()); x=a*60+b-45 ;print(x//60%24,x%60)"
   ]
  },
  {
   "cell_type": "code",
   "execution_count": null,
   "metadata": {},
   "outputs": [],
   "source": [
    "a,b=map(int,input().split())\n",
    "x=a*60+b-45\n",
    "print(x//60%24,x%60)"
   ]
  }
 ],
 "metadata": {
  "colab": {
   "authorship_tag": "ABX9TyPdhv/sxX4GA4Ocmki8LlD5",
   "include_colab_link": true,
   "name": "210808-01.ipynb",
   "provenance": []
  },
  "kernelspec": {
   "display_name": "Python 3",
   "language": "python",
   "name": "python3"
  },
  "language_info": {
   "codemirror_mode": {
    "name": "ipython",
    "version": 3
   },
   "file_extension": ".py",
   "mimetype": "text/x-python",
   "name": "python",
   "nbconvert_exporter": "python",
   "pygments_lexer": "ipython3",
   "version": "3.8.10"
  }
 },
 "nbformat": 4,
 "nbformat_minor": 4
}
