{
 "cells": [
  {
   "cell_type": "code",
   "execution_count": null,
   "id": "53c586fb-4ba6-463a-aca8-92a10088365b",
   "metadata": {},
   "outputs": [],
   "source": [
    "#1차원배열, 함수 (7문제, 3문제)"
   ]
  }
 ],
 "metadata": {
  "kernelspec": {
   "display_name": "Python 3",
   "language": "python",
   "name": "python3"
  },
  "language_info": {
   "codemirror_mode": {
    "name": "ipython",
    "version": 3
   },
   "file_extension": ".py",
   "mimetype": "text/x-python",
   "name": "python",
   "nbconvert_exporter": "python",
   "pygments_lexer": "ipython3",
   "version": "3.8.10"
  }
 },
 "nbformat": 4,
 "nbformat_minor": 5
}
