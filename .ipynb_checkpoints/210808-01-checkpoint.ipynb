{
 "cells": [
  {
   "cell_type": "markdown",
   "metadata": {
    "colab_type": "text",
    "id": "view-in-github"
   },
   "source": [
    "<a href=\"https://colab.research.google.com/github/DamiSoh/DE-code-study/blob/main/210808_01.ipynb\" target=\"_parent\"><img src=\"https://colab.research.google.com/assets/colab-badge.svg\" alt=\"Open In Colab\"/></a>"
   ]
  },
  {
   "cell_type": "markdown",
   "metadata": {
    "id": "RfyEq5O7CkR_"
   },
   "source": [
    "###210808-01\n",
    "[문제](https://www.acmicpc.net/step/4)\n",
    "\n"
   ]
  },
  {
   "cell_type": "code",
   "execution_count": null,
   "metadata": {
    "id": "UrhY9YC7CbRi"
   },
   "outputs": [],
   "source": [
    "#1330 두 수 비교하기\n",
    "\n",
    "list_ = input()\n",
    "list_ = list_.split()\n",
    "new_list_ = []\n",
    "\n",
    "for ins in list_:\n",
    "    new = int(ins)\n",
    "    new_list_.append(new)\n",
    "    \n",
    "a = new_list_[0]\n",
    "b = new_list_[1]\n",
    "\n",
    "if a > b:\n",
    "    print('>')\n",
    "elif a < b:\n",
    "    print('<')\n",
    "else:\n",
    "    print (\"==\")\n"
   ]
  },
  {
   "cell_type": "code",
   "execution_count": null,
   "metadata": {},
   "outputs": [],
   "source": [
    "# 1330 두 수 비교하기\n",
    "# 짧은코드 퍼옴 \n",
    "# map(function, iterable)\n",
    "\n",
    "a, b = map(int, input().split())\n",
    "print('>' if a > b else ('<' if a < b else '=='))\n"
   ]
  },
  {
   "cell_type": "code",
   "execution_count": null,
   "metadata": {},
   "outputs": [],
   "source": []
  }
 ],
 "metadata": {
  "colab": {
   "authorship_tag": "ABX9TyPdhv/sxX4GA4Ocmki8LlD5",
   "include_colab_link": true,
   "name": "210808-01.ipynb",
   "provenance": []
  },
  "kernelspec": {
   "display_name": "Python 3",
   "language": "python",
   "name": "python3"
  },
  "language_info": {
   "codemirror_mode": {
    "name": "ipython",
    "version": 3
   },
   "file_extension": ".py",
   "mimetype": "text/x-python",
   "name": "python",
   "nbconvert_exporter": "python",
   "pygments_lexer": "ipython3",
   "version": "3.8.10"
  }
 },
 "nbformat": 4,
 "nbformat_minor": 4
}
