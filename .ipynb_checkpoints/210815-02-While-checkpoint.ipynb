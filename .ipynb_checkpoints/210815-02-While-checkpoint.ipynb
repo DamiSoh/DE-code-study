{
 "cells": [
  {
   "cell_type": "code",
   "execution_count": 8,
   "id": "4c6c3833",
   "metadata": {},
   "outputs": [
    {
     "name": "stdin",
     "output_type": "stream",
     "text": [
      " 1 0\n"
     ]
    },
    {
     "name": "stdout",
     "output_type": "stream",
     "text": [
      "1\n"
     ]
    },
    {
     "name": "stdin",
     "output_type": "stream",
     "text": [
      " 0 0\n"
     ]
    }
   ],
   "source": [
    "#10952번: A+B-5\n",
    "\n",
    "while True:\n",
    "    a, b = map(int, input().split())\n",
    "    if a == 0 and b == 0:\n",
    "        break\n",
    "    print(a+b)\n"
   ]
  },
  {
   "cell_type": "code",
   "execution_count": 15,
   "id": "dee71371",
   "metadata": {},
   "outputs": [
    {
     "name": "stdin",
     "output_type": "stream",
     "text": [
      " 1 0\n"
     ]
    },
    {
     "name": "stdout",
     "output_type": "stream",
     "text": [
      "1\n"
     ]
    },
    {
     "name": "stdin",
     "output_type": "stream",
     "text": [
      " 3 3\n"
     ]
    },
    {
     "name": "stdout",
     "output_type": "stream",
     "text": [
      "6\n"
     ]
    },
    {
     "name": "stdin",
     "output_type": "stream",
     "text": [
      " 34\n"
     ]
    }
   ],
   "source": [
    "#10951번: A+B -4\n",
    "\n",
    "#import sys \n",
    "\n",
    "while True:\n",
    "    try:\n",
    "        a, b = map(int, input().split())\n",
    "        #a, b = map(int, sys.stdin.readline().split())\n",
    "        print(a+b)\n",
    "    except:\n",
    "        break\n"
   ]
  },
  {
   "cell_type": "code",
   "execution_count": null,
   "id": "0867ab6e-3503-4274-95bb-b7faad4eca5d",
   "metadata": {},
   "outputs": [],
   "source": [
    "#1110번: 더하기 사이클\n",
    "\"\"\"\n",
    "0보다 크거나 같고, 99보다 작거나 같은 정수가 주어질 때 다음과 같은 연산을 할 수 있다. \n",
    "\n",
    "먼저 주어진 수가 10보다 작다면 앞에 0을 붙여 두 자리 수로 만들고, 각 자리의 숫자를 더한다. \n",
    "\n",
    "그 다음, 주어진 수의 가장 오른쪽 자리 수와 앞에서 구한 합의 가장 오른쪽 자리 수를 이어 붙이면 새로운 수를 만들 수 있다. \n",
    "\n",
    "다음 예를 보자.\n",
    "\n",
    "26부터 시작한다. 2+6 = 8이다. 새로운 수는 68이다. 6+8 = 14이다. \n",
    "\n",
    "새로운 수는 84이다. 8+4 = 12이다. 새로운 수는 42이다. 4+2 = 6이다. 새로운 수는 26이다.\n",
    "\n",
    "위의 예는 4번만에 원래 수로 돌아올 수 있다. 따라서 26의 사이클의 길이는 4이다.\n",
    "\n",
    "N이 주어졌을 때, N의 사이클의 길이를 구하는 프로그램을 작성하시오.\n",
    "\"\"\""
   ]
  },
  {
   "cell_type": "code",
   "execution_count": null,
   "id": "e9eee21b-d59d-4b81-977d-0cf446a52489",
   "metadata": {},
   "outputs": [],
   "source": [
    "\"\"\"\n",
    "num = int(input())\n",
    "a = num//10\n",
    "b = num % 10\n",
    "c = a+b\n",
    "d = 10*b + c%10  ..... == num 되는 순간 \n",
    "\n",
    "연산횟수 세기 \n",
    "\"\"\""
   ]
  },
  {
   "cell_type": "code",
   "execution_count": 22,
   "id": "def66ac1-c191-4789-9a25-28f7d236d67f",
   "metadata": {},
   "outputs": [
    {
     "name": "stdin",
     "output_type": "stream",
     "text": [
      " 26\n"
     ]
    },
    {
     "name": "stdout",
     "output_type": "stream",
     "text": [
      "4\n"
     ]
    }
   ],
   "source": [
    "num = int(input())\n",
    "num_copy = num \n",
    "\n",
    "i = 0 \n",
    "while True:\n",
    "    \n",
    "    a = num // 10 \n",
    "    b = num % 10\n",
    "    c = a + b                      \n",
    "    num = b * 10 + c % 10    \n",
    "    i += 1\n",
    "    \n",
    "    if num == num_copy : \n",
    "        break\n",
    "\n",
    "print(i)"
   ]
  },
  {
   "cell_type": "code",
   "execution_count": null,
   "id": "58c3d7ac-8354-4cfa-92fb-a4defdf6cb70",
   "metadata": {},
   "outputs": [],
   "source": [
    "#숏코딩 퍼옴:\n",
    "\n",
    "a=n=int(input());c=1\n",
    "while(a:=a%10*10+a*11//10%10)-n:c+=1\n",
    "print(c)\n",
    "\n",
    "a=t=int(input());c=0\n",
    "while (c<1)+a-t:t=(t%10)*10+(t//10+t%10)%10;c+=1\n",
    "print(c)"
   ]
  }
 ],
 "metadata": {
  "interpreter": {
   "hash": "aee8b7b246df8f9039afb4144a1f6fd8d2ca17a180786b69acc140d282b71a49"
  },
  "kernelspec": {
   "display_name": "Python 3",
   "language": "python",
   "name": "python3"
  },
  "language_info": {
   "codemirror_mode": {
    "name": "ipython",
    "version": 3
   },
   "file_extension": ".py",
   "mimetype": "text/x-python",
   "name": "python",
   "nbconvert_exporter": "python",
   "pygments_lexer": "ipython3",
   "version": "3.8.10"
  }
 },
 "nbformat": 4,
 "nbformat_minor": 5
}
